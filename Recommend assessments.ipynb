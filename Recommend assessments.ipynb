{
 "cells": [
  {
   "cell_type": "code",
   "execution_count": 1,
   "id": "7a939418",
   "metadata": {},
   "outputs": [],
   "source": [
    "# === 📦 Step 1: Imports ===\n",
    "import pandas as pd\n",
    "import re\n",
    "from rank_bm25 import BM25Okapi\n",
    "from sentence_transformers import SentenceTransformer, util"
   ]
  },
  {
   "cell_type": "code",
   "execution_count": 3,
   "id": "2d7f0f20",
   "metadata": {},
   "outputs": [],
   "source": [
    "# === 🧹 Step 2: Load CSV and Preprocess ===\n",
    "df = pd.read_csv(\"cleaned_shl_assessments.csv\")"
   ]
  },
  {
   "cell_type": "code",
   "execution_count": 5,
   "id": "959ffcba",
   "metadata": {},
   "outputs": [],
   "source": [
    "# Ensure duration is integer\n",
    "if df['duration'].dtype != 'int64':\n",
    "    df['duration_minutes'] = df['duration'].astype(str).str.extract(r'(\\d+)').astype(float).fillna(0).astype(int)\n",
    "else:\n",
    "    df['duration_minutes'] = df['duration']"
   ]
  },
  {
   "cell_type": "code",
   "execution_count": 7,
   "id": "414ddabb",
   "metadata": {},
   "outputs": [],
   "source": [
    "# Fill NaNs in descriptions\n",
    "df['description'] = df['description'].fillna(\"\")"
   ]
  },
  {
   "cell_type": "code",
   "execution_count": 8,
   "id": "5c64268a",
   "metadata": {},
   "outputs": [],
   "source": [
    "# === 🔍 Step 3: Setup BM25 ===\n",
    "tokenizer = lambda x: x.lower().split()\n",
    "df['tokenized_desc'] = df['description'].apply(tokenizer)\n",
    "bm25 = BM25Okapi(df['tokenized_desc'].tolist())"
   ]
  },
  {
   "cell_type": "code",
   "execution_count": 9,
   "id": "940cdcb8",
   "metadata": {},
   "outputs": [],
   "source": [
    "# === 🤖 Step 4: Load Embedding Model ===\n",
    "model = SentenceTransformer('all-MiniLM-L6-v2')"
   ]
  },
  {
   "cell_type": "code",
   "execution_count": 13,
   "id": "2738a143",
   "metadata": {},
   "outputs": [],
   "source": [
    "# === 💡 Step 5: Define Recommendation Function ===\n",
    "def recommend_assessments(query, df, bm25_model, tokenizer, embedding_model, top_k=5):\n",
    "    # 1. Extract duration from query\n",
    "    def extract_duration_limit(text):\n",
    "        match = re.search(r\"(under|within|less than|max(?:imum)? of)?\\s*(\\d{1,3})\", text.lower())\n",
    "        if match:\n",
    "            return int(match.group(2))\n",
    "        return None\n",
    "\n",
    "    duration_limit = extract_duration_limit(query)\n",
    "\n",
    "    # 2. BM25 scoring\n",
    "    tokenized_query = tokenizer(query.lower())\n",
    "    bm25_scores = bm25_model.get_scores(tokenized_query)\n",
    "\n",
    "    # 3. Embedding scoring\n",
    "    query_embedding = embedding_model.encode(query, convert_to_tensor=True)\n",
    "    desc_embeddings = embedding_model.encode(df['description'].tolist(), convert_to_tensor=True)\n",
    "    embedding_scores = util.cos_sim(query_embedding, desc_embeddings)[0].cpu().numpy()\n",
    "\n",
    "    # 4. Normalize scores\n",
    "    df_copy = df.copy()\n",
    "    df_copy['bm25_score'] = bm25_scores\n",
    "    df_copy['embedding_score'] = embedding_scores\n",
    "    df_copy['bm25_score_norm'] = (df_copy['bm25_score'] - df_copy['bm25_score'].min()) / (df_copy['bm25_score'].max() - df_copy['bm25_score'].min())\n",
    "    df_copy['embedding_score_norm'] = (df_copy['embedding_score'] - df_copy['embedding_score'].min()) / (df_copy['embedding_score'].max() - df_copy['embedding_score'].min())\n",
    "    df_copy['final_score'] = 0.5 * df_copy['bm25_score_norm'] + 0.5 * df_copy['embedding_score_norm']\n",
    "\n",
    "    # 5. Filter by duration\n",
    "    if duration_limit:\n",
    "        filtered = df_copy[df_copy['duration_minutes'] <= duration_limit]\n",
    "        if filtered.empty:\n",
    "            filtered = df_copy  # fallback if no assessment under duration\n",
    "    else:\n",
    "        filtered = df_copy\n",
    "\n",
    "    # 6. Return top-k results in tabular format\n",
    "    top_k = min(len(filtered), max(1, top_k))\n",
    "    return filtered.sort_values(by='final_score', ascending=False).head(top_k)[['name', 'duration_minutes', 'final_score']].reset_index(drop=True)"
   ]
  },
  {
   "cell_type": "code",
   "execution_count": 14,
   "id": "f13a0a7c",
   "metadata": {},
   "outputs": [
    {
     "data": {
      "text/html": [
       "<div>\n",
       "<style scoped>\n",
       "    .dataframe tbody tr th:only-of-type {\n",
       "        vertical-align: middle;\n",
       "    }\n",
       "\n",
       "    .dataframe tbody tr th {\n",
       "        vertical-align: top;\n",
       "    }\n",
       "\n",
       "    .dataframe thead th {\n",
       "        text-align: right;\n",
       "    }\n",
       "</style>\n",
       "<table border=\"1\" class=\"dataframe\">\n",
       "  <thead>\n",
       "    <tr style=\"text-align: right;\">\n",
       "      <th></th>\n",
       "      <th>name</th>\n",
       "      <th>duration_minutes</th>\n",
       "      <th>final_score</th>\n",
       "    </tr>\n",
       "  </thead>\n",
       "  <tbody>\n",
       "    <tr>\n",
       "      <th>0</th>\n",
       "      <td>OPQ Universal Competency Report 1.0 | SHL</td>\n",
       "      <td>20</td>\n",
       "      <td>0.864851</td>\n",
       "    </tr>\n",
       "    <tr>\n",
       "      <th>1</th>\n",
       "      <td>Verify - Deductive Reasoning | SHL</td>\n",
       "      <td>20</td>\n",
       "      <td>0.856291</td>\n",
       "    </tr>\n",
       "    <tr>\n",
       "      <th>2</th>\n",
       "      <td>HiPo Assessment Report 2.0 | SHL</td>\n",
       "      <td>20</td>\n",
       "      <td>0.855825</td>\n",
       "    </tr>\n",
       "    <tr>\n",
       "      <th>3</th>\n",
       "      <td>HiPo Assessment Report 1.0 | SHL</td>\n",
       "      <td>20</td>\n",
       "      <td>0.841730</td>\n",
       "    </tr>\n",
       "    <tr>\n",
       "      <th>4</th>\n",
       "      <td>Verify Interactive Process Monitoring | SHL</td>\n",
       "      <td>18</td>\n",
       "      <td>0.830088</td>\n",
       "    </tr>\n",
       "  </tbody>\n",
       "</table>\n",
       "</div>"
      ],
      "text/plain": [
       "                                          name  duration_minutes  final_score\n",
       "0    OPQ Universal Competency Report 1.0 | SHL                20     0.864851\n",
       "1           Verify - Deductive Reasoning | SHL                20     0.856291\n",
       "2             HiPo Assessment Report 2.0 | SHL                20     0.855825\n",
       "3             HiPo Assessment Report 1.0 | SHL                20     0.841730\n",
       "4  Verify Interactive Process Monitoring | SHL                18     0.830088"
      ]
     },
     "metadata": {},
     "output_type": "display_data"
    }
   ],
   "source": [
    "# === 🧪 Step 6: Try a Query ===\n",
    "query = \"I am hiring for an analyst and want applications to screen using Cognitive and personality tests, what options are available within 45 mins.\"\n",
    "results = recommend_assessments(query, df, bm25, tokenizer, model)\n",
    "display(results)"
   ]
  },
  {
   "cell_type": "code",
   "execution_count": null,
   "id": "6ccafe45",
   "metadata": {},
   "outputs": [],
   "source": []
  }
 ],
 "metadata": {
  "kernelspec": {
   "display_name": "Python 3 (ipykernel)",
   "language": "python",
   "name": "python3"
  },
  "language_info": {
   "codemirror_mode": {
    "name": "ipython",
    "version": 3
   },
   "file_extension": ".py",
   "mimetype": "text/x-python",
   "name": "python",
   "nbconvert_exporter": "python",
   "pygments_lexer": "ipython3",
   "version": "3.10.9"
  }
 },
 "nbformat": 4,
 "nbformat_minor": 5
}
